{
 "cells": [
  {
   "cell_type": "markdown",
   "metadata": {},
   "source": [
    "#### Contexte\n",
    "\n",
    "Pour cet exercice, je vous demande simplement de refaire ce que nous avons fait dans le chapitre sur le problème de Monty Hall, mais en utilisant cette fois Numpy.  Vous allez donc simuler le problème de Monty Hall, et visualiser les résultats de vos simulations. Vous devrez assembler les deux fonctions ```play_game``` et ```play``` au sein d'une même fonction. Cette fonction devra générer un tableau Numpy des gains du joueur, et non pas une ```list```. \n",
    "\n",
    "Vous ne devrez pas faire appel à la librairie ```random``` de Python (mais vous utiliserez la librairie ```random``` de Numpy). \n",
    "\n",
    "Votre code ne doit pas comporter de boucle (pas de ```for```) dans la partie calculatoire. Pour cela, vous devrez sûrement vous creuser un peu la tête. N'oubliez pas que Numpy peut très rapidement comparer les éléments de deux tableaux un à un. \n",
    "\n",
    "Vous devrez intégrer cette fonction dans un module Python. Votre notebook ne doit comporter aucune définition de fonction.\n",
    "\n",
    "Votre notebook doit s'exécuter et générer les mêmes graphiques que ceux du cours.\n",
    "\n",
    "#### Consigne\n",
    "\n",
    "1. Un fichier .py doit accompagner le notebook, avec à l'intérieur la définition d'une fonction.\n",
    "2. Le notebook doit utiliser la fonction du module pour simuler le jeu.\n",
    "3. La fonction ou le notebook ne doivent pas importer le module random (mais numpy.random), ou tout au moins ne pas l'utiliser.\n",
    "4. Les graphiques du chapitre doivent être reproduits (attention, nous faisons appels à des variables aléatoires, donc les graphiques ne seront pas forcément identiques).\n",
    "5. Le notebook doit être bien segmenté (tout le code ne doit pas être dans une seule cellule).\n",
    "6. Toutes les cellules doivent s'exécuter sans erreur (il faut les exécuter dans l'ordre !)."
   ]
  },
  {
   "cell_type": "code",
   "execution_count": null,
   "metadata": {},
   "outputs": [],
   "source": []
  }
 ],
 "metadata": {
  "kernelspec": {
   "display_name": "Python 3",
   "language": "python",
   "name": "python3"
  },
  "language_info": {
   "codemirror_mode": {
    "name": "ipython",
    "version": 3
   },
   "file_extension": ".py",
   "mimetype": "text/x-python",
   "name": "python",
   "nbconvert_exporter": "python",
   "pygments_lexer": "ipython3",
   "version": "3.7.4"
  }
 },
 "nbformat": 4,
 "nbformat_minor": 2
}
